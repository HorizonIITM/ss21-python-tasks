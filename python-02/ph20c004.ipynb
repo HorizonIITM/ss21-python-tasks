{
 "cells": [
  {
   "cell_type": "markdown",
   "id": "3d5201ef-78ba-44c2-a485-77059c3c147b",
   "metadata": {},
   "source": [
    "# Module 1.2 - **Python** Part 2 Task"
   ]
  },
  {
   "cell_type": "code",
   "execution_count": null,
   "id": "dbcf4ae0-49b2-4794-948b-8ba1a6ef7751",
   "metadata": {},
   "outputs": [],
   "source": [
    "import numpy as np\n",
    "import matplotlib.pyplot as plt"
   ]
  },
  {
   "cell_type": "markdown",
   "id": "8e78d162-fbb0-41d3-ba16-e0d0f468988b",
   "metadata": {},
   "source": [
    "## Test array"
   ]
  },
  {
   "cell_type": "code",
   "execution_count": 1,
   "id": "3e8c4bdb-8abb-4622-b140-2703bc21945a",
   "metadata": {},
   "outputs": [],
   "source": [
    "def conway(init: np.ndarray,niter:int)->np.ndarray:\n",
    "    k=[-1,0,1]\n",
    "    count=c1=d1=d2=0\n",
    "    for i in init:\n",
    "        c1+=1\n",
    "        for j in i:\n",
    "            d1+=1\n",
    "    d2=d1//c1\n",
    "    for i in range(niter):\n",
    "        for j in range(1,c1-1):\n",
    "            for m in range(1,d2-1):\n",
    "                count=0\n",
    "                if(init[j][m]==1):\n",
    "                    for a in k:\n",
    "                        for b in k:\n",
    "                            if(init[j+a][m+b]==1):\n",
    "                                count+=1\n",
    "                    count-=1\n",
    "                    if(count!=2)and(count!=3):\n",
    "                        init[j][m]=0\n",
    "                else:\n",
    "                    for a in k:\n",
    "                        for b in k:\n",
    "                            if(init[j+a][m+b]==1):\n",
    "                                count+=1\n",
    "                    if(count==3):\n",
    "                        init[j][m]=1\n",
    "    return(init)"
   ]
  },
  {
   "cell_type": "code",
   "execution_count": null,
   "id": "28a090fc",
   "metadata": {},
   "outputs": [],
   "source": []
  }
 ],
 "metadata": {
  "kernelspec": {
   "display_name": "Python 3 (ipykernel)",
   "language": "python",
   "name": "python3"
  },
  "language_info": {
   "codemirror_mode": {
    "name": "ipython",
    "version": 3
   },
   "file_extension": ".py",
   "mimetype": "text/x-python",
   "name": "python",
   "nbconvert_exporter": "python",
   "pygments_lexer": "ipython3",
   "version": "3.9.1"
  }
 },
 "nbformat": 4,
 "nbformat_minor": 5
}
