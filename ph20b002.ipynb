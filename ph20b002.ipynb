{
 "cells": [
  {
   "cell_type": "code",
   "execution_count": 17,
   "id": "c7d402b8",
   "metadata": {},
   "outputs": [],
   "source": [
    "#Problem 1\n",
    "def lagrange_polynomial(datalist,xvalue):\n",
    "    x=[]\n",
    "    y=[]\n",
    "    for i in range(len(datalist)):\n",
    "        x.append(datalist[i][0])\n",
    "        y.append(datalist[i][1])\n",
    "        \n",
    "    Ans=0\n",
    "    for i in range(len(x)):\n",
    "        a=1\n",
    "        for j in range(len(x)):\n",
    "            if i==j:#if i=j then denominator will be zero\n",
    "                continue\n",
    "            else:\n",
    "                a*=(xvalue-x[j])/(x[i]-x[j])\n",
    "            Ans+=y[i]*a\n",
    "    return Ans\n",
    "        \n",
    "    \n",
    "    \n",
    "    \n",
    "    "
   ]
  },
  {
   "cell_type": "code",
   "execution_count": 18,
   "id": "eca7d417",
   "metadata": {},
   "outputs": [
    {
     "name": "stdout",
     "output_type": "stream",
     "text": [
      "19.942857142857143\n"
     ]
    }
   ],
   "source": [
    "yval = lagrange_polynomial([[8, 6], [1, 3], [3, 8]], 4)\n",
    "print(yval)"
   ]
  },
  {
   "cell_type": "code",
   "execution_count": 3,
   "id": "ec7fd932",
   "metadata": {},
   "outputs": [],
   "source": [
    "#Problem 2\n",
    "dict1 = {'a' : 1, 'b' : 2, 'c' : 3, 'd' : 4, 'e' : 5,'f' : 6, 'g' : 7, 'h' : 8, 'i' : 9, 'j' : 10,\n",
    "         'k' : 11, 'l' : 12, 'm' : 13, 'n' : 14, 'o' : 15,'p' : 16, 'q' : 17, 'r' : 18, 's' : 19, 't' : 20,\n",
    "        'u' : 21, 'v' : 22, 'w' : 23, 'x' : 24, 'y' : 25, 'z' : 26}\n",
    "dict2 = {0 : 'z', 1 : 'a', 2 : 'b', 3 : 'c', 4 : 'd', 5 : 'e',6 : 'f', 7 : 'g', 8 : 'h', 9 : 'i', 10 : 'j',\n",
    "        11 : 'k', 12 : 'l', 13 : 'm', 14 : 'n', 15 : 'o',16 : 'p', 17 : 'q', 18 : 'r', 19 : 's', 20 : 't',\n",
    "        21 : 'u', 22 : 'v', 23 : 'w', 24 : 'x', 25 : 'y'}"
   ]
  },
  {
   "cell_type": "code",
   "execution_count": 4,
   "id": "3eea1ace",
   "metadata": {},
   "outputs": [],
   "source": [
    "def inv_rotn_encrypt(message,shift):\n",
    "    cypher=''\n",
    "    for code in message:\n",
    "        if code != '':\n",
    "            num=(dict1[code]+shift)%26\n",
    "            cypher+=dict2[num]\n",
    "            \n",
    "            \n",
    "        else:\n",
    "            cypher+=''\n",
    "    return cypher"
   ]
  },
  {
   "cell_type": "code",
   "execution_count": 5,
   "id": "ad98ac91",
   "metadata": {},
   "outputs": [],
   "source": [
    "\n",
    "def inv_rotn_decrypt(secret,shift):\n",
    "    decypher=''\n",
    "    for code in secret:\n",
    "        if code !='':\n",
    "            num=(dict1[code]-shift+26)%26\n",
    "            decypher+=dict2[num]\n",
    "        else:\n",
    "            decypher+=''\n",
    "            \n",
    "    return decypher"
   ]
  },
  {
   "cell_type": "code",
   "execution_count": 6,
   "id": "14f33fce",
   "metadata": {},
   "outputs": [
    {
     "name": "stdout",
     "output_type": "stream",
     "text": [
      "Message:  bobody\n",
      "Encrypted message:  sfsfup\n",
      "Decrypted message:  bobody\n"
     ]
    }
   ],
   "source": [
    "message = 'bobody'\n",
    "print(\"Message: \", message)\n",
    "secret = inv_rotn_encrypt(message, 17)\n",
    "print(\"Encrypted message: \", secret)\n",
    "message_again = inv_rotn_decrypt(secret, 17)\n",
    "print(\"Decrypted message: \", message_again)\n",
    "        "
   ]
  },
  {
   "cell_type": "code",
   "execution_count": null,
   "id": "f0d0b7ae",
   "metadata": {},
   "outputs": [],
   "source": []
  },
  {
   "cell_type": "code",
   "execution_count": null,
   "id": "dfc2f7fe",
   "metadata": {},
   "outputs": [],
   "source": []
  },
  {
   "cell_type": "code",
   "execution_count": null,
   "id": "0fc00654",
   "metadata": {},
   "outputs": [],
   "source": []
  },
  {
   "cell_type": "code",
   "execution_count": null,
   "id": "9878d841",
   "metadata": {},
   "outputs": [],
   "source": []
  },
  {
   "cell_type": "code",
   "execution_count": null,
   "id": "9fbac7ee",
   "metadata": {},
   "outputs": [],
   "source": []
  },
  {
   "cell_type": "code",
   "execution_count": null,
   "id": "17eede0c",
   "metadata": {},
   "outputs": [],
   "source": []
  },
  {
   "cell_type": "code",
   "execution_count": null,
   "id": "03526c52",
   "metadata": {},
   "outputs": [],
   "source": []
  }
 ],
 "metadata": {
  "kernelspec": {
   "display_name": "Python 3 (ipykernel)",
   "language": "python",
   "name": "python3"
  },
  "language_info": {
   "codemirror_mode": {
    "name": "ipython",
    "version": 3
   },
   "file_extension": ".py",
   "mimetype": "text/x-python",
   "name": "python",
   "nbconvert_exporter": "python",
   "pygments_lexer": "ipython3",
   "version": "3.8.10"
  }
 },
 "nbformat": 4,
 "nbformat_minor": 5
}
