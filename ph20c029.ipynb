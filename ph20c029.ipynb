{
 "cells": [
  {
   "cell_type": "markdown",
   "id": "3d5201ef-78ba-44c2-a485-77059c3c147b",
   "metadata": {},
   "source": [
    "# Module 1.2 - **Python** Part 1 Task"
   ]
  },
  {
   "cell_type": "markdown",
   "id": "c27debe9-dc11-4e9e-98f1-57a465945746",
   "metadata": {},
   "source": [
    "## Problem 1 **Solution**"
   ]
  },
  {
   "cell_type": "code",
   "execution_count": null,
   "id": "dbcf4ae0-49b2-4794-948b-8ba1a6ef7751",
   "metadata": {},
   "outputs": [],
   "source": [
    "def lagrange_polynomial(data, xval):\n",
    "    x=[]\n",
    "    y=[]\n",
    "    for i in range(len(data)):\n",
    "        x.append(data[i][0])\n",
    "        y.append(data[i][1])\n",
    "    a = len(x)\n",
    "    b = len(y)\n",
    "    assert a==b\n",
    "    lag = 0\n",
    "    l = [1]*b\n",
    "    for j in range(b):\n",
    "        for i in range(b):\n",
    "            if i != j:\n",
    "                l[j] *= (xval-x[i])/(x[j]-x[i])\n",
    "        lag += y[j]*l[j]\n",
    "    print(lag)"
   ]
  },
  {
   "cell_type": "markdown",
   "id": "db582143-5c68-4b0c-9e33-dc0a3daf0abd",
   "metadata": {},
   "source": [
    "## Problem 2 **Solution**"
   ]
  },
  {
   "cell_type": "code",
   "execution_count": 1,
   "id": "acf03b9a-1958-4048-be11-57fbdb28de2f",
   "metadata": {},
   "outputs": [],
   "source": [
    "# index of alphabets.\n",
    "\n",
    "i1 = {'A' : 1, 'B' : 2, 'C' : 3, 'D' : 4, 'E' : 5,\n",
    "        'F' : 6, 'G' : 7, 'H' : 8, 'I' : 9, 'J' : 10,\n",
    "        'K' : 11, 'L' : 12, 'M' : 13, 'N' : 14, 'O' : 15,\n",
    "        'P' : 16, 'Q' : 17, 'R' : 18, 'S' : 19, 'T' : 20,\n",
    "        'U' : 21, 'V' : 22, 'W' : 23, 'X' : 24, 'Y' : 25, 'Z' : 26}\n",
    "\n",
    "# index after shift.\n",
    "\n",
    "i2 = {0 : 'Z', 1 : 'A', 2 : 'B', 3 : 'C', 4 : 'D', 5 : 'E',\n",
    "        6 : 'F', 7 : 'G', 8 : 'H', 9 : 'I', 10 : 'J',\n",
    "        11 : 'K', 12 : 'L', 13 : 'M', 14 : 'N', 15 : 'O',\n",
    "        16 : 'P', 17 : 'Q', 18 : 'R', 19 : 'S', 20 : 'T',\n",
    "        21 : 'U', 22 : 'V', 23 : 'W', 24 : 'X', 25 : 'Y'}"
   ]
  },
  {
   "cell_type": "code",
   "execution_count": 2,
   "id": "489c5623",
   "metadata": {},
   "outputs": [],
   "source": [
    "# encryption\n",
    "\n",
    "def inv_rotn_encrypt(message, shift):\n",
    "    msg=message.upper()\n",
    "    encrypt = ''\n",
    "    for letters in msg:\n",
    "        if(letters != ' '):\n",
    "            num = ( i1[letters] + shift ) % 26\n",
    "            encrypt += i2[num]\n",
    "        else:\n",
    "            encrypt += ' '\n",
    "  \n",
    "    return encrypt.lower()"
   ]
  },
  {
   "cell_type": "code",
   "execution_count": 4,
   "id": "e23a0d0b",
   "metadata": {},
   "outputs": [],
   "source": [
    "#decryption\n",
    "\n",
    "def inv_rotn_decrypt(message, shift):\n",
    "    msg=message.upper()\n",
    "    decrypt = ''\n",
    "    for letters in msg:\n",
    "        if(letters != ' '):\n",
    "            num = ( i1[letters] - shift + 26) % 26\n",
    "            decrypt += i2[num]\n",
    "        else:\n",
    "            # adds space\n",
    "            decrypt += ' '\n",
    "  \n",
    "    return decrypt.lower()"
   ]
  }
 ],
 "metadata": {
  "kernelspec": {
   "display_name": "Python 3 (ipykernel)",
   "language": "python",
   "name": "python3"
  },
  "language_info": {
   "codemirror_mode": {
    "name": "ipython",
    "version": 3
   },
   "file_extension": ".py",
   "mimetype": "text/x-python",
   "name": "python",
   "nbconvert_exporter": "python",
   "pygments_lexer": "ipython3",
   "version": "3.8.10"
  }
 },
 "nbformat": 4,
 "nbformat_minor": 5
}
