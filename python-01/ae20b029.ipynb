{
  "nbformat": 4,
  "nbformat_minor": 0,
  "metadata": {
    "colab": {
      "name": "Horizon task2.ipynb",
      "provenance": []
    },
    "kernelspec": {
      "name": "python3",
      "display_name": "Python 3"
    },
    "language_info": {
      "name": "python"
    }
  },
  "cells": [
    {
      "cell_type": "markdown",
      "metadata": {
        "id": "rbn_ZzoWWAbO"
      },
      "source": [
        "# **Problem 1**"
      ]
    },
    {
      "cell_type": "code",
      "metadata": {
        "id": "-KvNvCBpVgbW"
      },
      "source": [
        "def lagrange_polynomial(datalist, xvalue):\n",
        "  value = 0\n",
        "  for i in range(len(datalist)):\n",
        "    product = float(datalist[i][1])\n",
        "    for j in range(len(datalist)):\n",
        "      if i!=j :\n",
        "        product = product * (xvalue - datalist[j][0])/(datalist[i][0]-datalist[j][0])\n",
        "\n",
        "    value = value + product\n",
        "  \n",
        "  return value"
      ],
      "execution_count": 5,
      "outputs": []
    },
    {
      "cell_type": "code",
      "metadata": {
        "id": "LZIYmNnvVzc5",
        "colab": {
          "base_uri": "https://localhost:8080/"
        },
        "outputId": "e012e15c-4141-4e47-b70a-f434039daf0d"
      },
      "source": [
        "yval = lagrange_polynomial([[8, 6], [1, 3], [3, 8]], 4)\n",
        "print(yval)"
      ],
      "execution_count": 6,
      "outputs": [
        {
          "output_type": "stream",
          "text": [
            "9.257142857142858\n"
          ],
          "name": "stdout"
        }
      ]
    },
    {
      "cell_type": "markdown",
      "metadata": {
        "id": "Z79rb1sKWSkd"
      },
      "source": [
        "# **Problem 2**"
      ]
    },
    {
      "cell_type": "code",
      "metadata": {
        "id": "7XDSJHmYWXLJ"
      },
      "source": [
        "alpha = ['a', 'b', 'c', 'd', 'e', 'f', 'g', 'h', 'i', 'j', 'k', 'l', 'm', 'n', 'o', 'p', 'q', 'r', 's', 't', 'u', 'v', 'w', 'x', 'y', 'z']\n",
        "shifted_alpha = ['a', 'b', 'c', 'd', 'e', 'f', 'g', 'h', 'i', 'j', 'k', 'l', 'm', 'n', 'o', 'p', 'q', 'r', 's', 't', 'u', 'v', 'w', 'x', 'y', 'z']\n",
        "\n",
        "def inv_rotn_encrypt(message, shift):\n",
        "    # message is the message to be encrypted\n",
        "    # shift is the number of letters to shift\n",
        "    \n",
        "    for i in range(len(alpha)):\n",
        "        shifted_alpha[i-shift] = alpha[i]\n",
        "\n",
        "    secret = ''\n",
        "    for i in message:\n",
        "        for j in range(len(alpha)):\n",
        "            if i == alpha[j]:\n",
        "                secret = shifted_alpha[j] + secret\n",
        "    \n",
        "    return secret\n",
        "\n",
        "def inv_rotn_decrypt(secret, shift):\n",
        "    # secret is the encrypted message to be decrypted to obtain original message\n",
        "    # shift is the number of shifts used to encrypt the original message\n",
        "\n",
        "    for i in range(len(alpha)):\n",
        "        shifted_alpha[i-shift] = alpha[i]\n",
        "\n",
        "    message_again = ''\n",
        "    for i in secret:\n",
        "        for j in range(len(shifted_alpha)):\n",
        "            if i == shifted_alpha[j]:\n",
        "                message_again = alpha[j] + message_again\n",
        "    \n",
        "    return message"
      ],
      "execution_count": 7,
      "outputs": []
    },
    {
      "cell_type": "code",
      "metadata": {
        "id": "2QAjftx0WgTG",
        "colab": {
          "base_uri": "https://localhost:8080/"
        },
        "outputId": "865937d0-d9af-4b03-e1a2-f9b0783646e9"
      },
      "source": [
        "message = 'bobody'\n",
        "print(\"Message: \", message)\n",
        "secret = inv_rotn_encrypt(message, 17)\n",
        "print(\"Encrypted message: \", secret)\n",
        "message_again = inv_rotn_decrypt(secret, 17)\n",
        "print(\"Decrypted message: \", message_again)"
      ],
      "execution_count": 8,
      "outputs": [
        {
          "output_type": "stream",
          "text": [
            "Message:  bobody\n",
            "Encrypted message:  pufsfs\n",
            "Decrypted message:  bobody\n"
          ],
          "name": "stdout"
        }
      ]
    }
  ]
}