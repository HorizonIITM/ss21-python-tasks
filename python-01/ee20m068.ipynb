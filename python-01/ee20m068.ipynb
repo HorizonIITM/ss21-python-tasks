{
 "cells": [
  {
   "cell_type": "markdown",
   "metadata": {},
   "source": [
    "# Module 1.2 - **Python** Part 1 Task"
   ]
  },
  {
   "cell_type": "markdown",
   "metadata": {},
   "source": [
    "## Problem 1 **Solution**"
   ]
  },
  {
   "cell_type": "code",
   "execution_count": 6,
   "metadata": {},
   "outputs": [
    {
     "name": "stdout",
     "output_type": "stream",
     "text": [
      "9\n"
     ]
    }
   ],
   "source": [
    "#import numpy as np\n",
    "def lagrange_polynomial(datalist, xvalue):\n",
    "    n = len(datalist)\n",
    "    x = [0]*n\n",
    "    y = [0]*n\n",
    "    \n",
    "    #reading data points\n",
    "    for k in range(n):\n",
    "        x[k] = datalist[k][0]\n",
    "        y[k] = datalist[k][1]\n",
    "    \n",
    "    #Implementing lagrange interpolation\n",
    "    yp = 0\n",
    "    for i in range(n):\n",
    "        p = 1\n",
    "        for j in range(n):\n",
    "            if i != j:\n",
    "                p = p * (xvalue - x[j])/(x[i] - x[j])\n",
    "                \n",
    "        yp = yp + p * y[i]\n",
    "    return yp       \n",
    "yval = lagrange_polynomial([[1, 2], [4, 9], [13, 27]], 4)\n",
    "print(yval)"
   ]
  },
  {
   "cell_type": "markdown",
   "metadata": {},
   "source": [
    "## Problem 2 **Solution**"
   ]
  },
  {
   "cell_type": "code",
   "execution_count": 25,
   "metadata": {},
   "outputs": [
    {
     "name": "stdout",
     "output_type": "stream",
     "text": [
      "('Message: ', 'bobody')\n",
      "('Encrypted message:', 'sfsfup')\n",
      "bobody\n"
     ]
    }
   ],
   "source": [
    "dict1 = {'A' : 1, 'B' : 2, 'C' : 3, 'D' : 4, 'E' : 5,\n",
    "        'F' : 6, 'G' : 7, 'H' : 8, 'I' : 9, 'J' : 10,\n",
    "        'K' : 11, 'L' : 12, 'M' : 13, 'N' : 14, 'O' : 15,\n",
    "        'P' : 16, 'Q' : 17, 'R' : 18, 'S' : 19, 'T' : 20,\n",
    "        'U' : 21, 'V' : 22, 'W' : 23, 'X' : 24, 'Y' : 25, 'Z' : 26}\n",
    "\n",
    "dict2 = {0 : 'Z', 1 : 'A', 2 : 'B', 3 : 'C', 4 : 'D', 5 : 'E',\n",
    "        6 : 'F', 7 : 'G', 8 : 'H', 9 : 'I', 10 : 'J',\n",
    "        11 : 'K', 12 : 'L', 13 : 'M', 14 : 'N', 15 : 'O',\n",
    "        16 : 'P', 17 : 'Q', 18 : 'R', 19 : 'S', 20 : 'T',\n",
    "        21 : 'U', 22 : 'V', 23 : 'W', 24 : 'X', 25 : 'Y'}\n",
    "\n",
    "# Function to encrypt the string \n",
    "# according to the shift provided\n",
    "def inv_rotn_encrypt(message, shift):\n",
    "    cipher = ''\n",
    "    for letter in message:\n",
    "        # checking for space\n",
    "        if(letter != ' '):\n",
    "            # looks up the dictionary and \n",
    "            # adds the shift to the index\n",
    "            num = ( dict1[letter] + shift ) % 26\n",
    "            # looks up the second dictionary for \n",
    "            # the shifted alphabets and adds them\n",
    "            cipher += dict2[num]\n",
    "        else:\n",
    "            # adds space\n",
    "            cipher += ' '\n",
    "  \n",
    "    return cipher\n",
    "\n",
    "# Function to decrypt the string \n",
    "# according to the shift provided\n",
    "def inv_rotn_decrypt(secret, shift):\n",
    "    decipher = ''\n",
    "    for letter in secret:\n",
    "        # checks for space\n",
    "        if(letter != ' '):\n",
    "            # looks up the dictionary and \n",
    "            # subtracts the shift to the index\n",
    "            num = ( dict1[letter] - shift + 26) % 26\n",
    "            # looks up the second dictionary for the \n",
    "            # shifted alphabets and adds them\n",
    "            decipher += dict2[num]\n",
    "        else:\n",
    "            # adds space\n",
    "            decipher += ' '\n",
    "  \n",
    "    return decipher\n",
    "\n",
    "# driver function to run the program\n",
    "def main():\n",
    "    \n",
    "    message = 'bobody'\n",
    "    print('Message: ', message)\n",
    "    shift = 17\n",
    "    secret = inv_rotn_encrypt(message.upper(), shift)\n",
    "    print('Encrypted message:' , secret.lower())\n",
    "  \n",
    "    message_again = inv_rotn_decrypt(secret.upper(), shift)\n",
    "    print (message_again.lower())\n",
    "    \n",
    "if __name__ == '__main__':\n",
    "    main()\n"
   ]
  },
  {
   "cell_type": "code",
   "execution_count": null,
   "metadata": {},
   "outputs": [],
   "source": []
  }
 ],
 "metadata": {
  "kernelspec": {
   "display_name": "Python 2",
   "language": "python",
   "name": "python2"
  },
  "language_info": {
   "codemirror_mode": {
    "name": "ipython",
    "version": 2
   },
   "file_extension": ".py",
   "mimetype": "text/x-python",
   "name": "python",
   "nbconvert_exporter": "python",
   "pygments_lexer": "ipython2",
   "version": "2.7.12"
  }
 },
 "nbformat": 4,
 "nbformat_minor": 5
}
