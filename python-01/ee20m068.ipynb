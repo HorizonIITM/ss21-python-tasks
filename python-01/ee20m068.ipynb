{
 "cells": [
  {
   "cell_type": "markdown",
   "metadata": {},
   "source": [
    "# Module 1.2 - **Python** Part 1 Task"
   ]
  },
  {
   "cell_type": "markdown",
   "metadata": {},
   "source": [
    "## Problem 1 **Solution**"
   ]
  },
  {
   "cell_type": "code",
   "execution_count": 53,
   "metadata": {},
   "outputs": [
    {
     "name": "stdout",
     "output_type": "stream",
     "text": [
      "9\n"
     ]
    }
   ],
   "source": [
    "#import numpy as np\n",
    "def lagrange_polynomial(datalist, xvalue):\n",
    "    n = len(datalist)\n",
    "    x = [0]*n\n",
    "    y = [0]*n\n",
    "    \n",
    "    #reading data points\n",
    "    for k in range(n):\n",
    "        x[k] = datalist[k][0]\n",
    "        y[k] = datalist[k][1]\n",
    "    \n",
    "    #Implementing lagrange interpolation\n",
    "    yp = 0\n",
    "    for i in range(n):\n",
    "        p = 1\n",
    "        for j in range(n):\n",
    "            if i != j:\n",
    "                p = p * (xvalue - x[j])/(x[i] - x[j])\n",
    "                \n",
    "        yp = yp + p * y[i]\n",
    "    return yp       \n",
    "yval = lagrange_polynomial([[1, 2], [4, 9], [13, 27]], 4)\n",
    "print(yval)"
   ]
  },
  {
   "cell_type": "markdown",
   "metadata": {},
   "source": [
    "## Problem 2 **Solution**"
   ]
  },
  {
   "cell_type": "code",
   "execution_count": null,
   "metadata": {},
   "outputs": [],
   "source": []
  }
 ],
 "metadata": {
  "kernelspec": {
   "display_name": "Python 2",
   "language": "python",
   "name": "python2"
  },
  "language_info": {
   "codemirror_mode": {
    "name": "ipython",
    "version": 2
   },
   "file_extension": ".py",
   "mimetype": "text/x-python",
   "name": "python",
   "nbconvert_exporter": "python",
   "pygments_lexer": "ipython2",
   "version": "2.7.12"
  }
 },
 "nbformat": 4,
 "nbformat_minor": 5
}
