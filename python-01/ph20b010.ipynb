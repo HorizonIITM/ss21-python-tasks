#!/usr/bin/env python
# coding: utf-8

# In[1]:


import numpy as np
def lagrange_polynomial(datalist, xvalue):
    n=len(datalist) #number of data point in data list len(datalist)
    xlist=datalist[:,0]
    ylist=datalist[:,1]
    y=0
    for i in  range(n):
        p=1                       
        for j in range(n):
            if i !=j:
                p = p*(xvalue - xlist[j])/(xlist[i] - xlist[j])
                                        
        y=y+p*ylist[i]
    print(y)


# In[14]:


def inv_rotn_encrypt(message, shift):
    s=list(message.lower())# message should be a string
    alphabet=['a','b','c','d','e','f','g','h', 'i','j','k', 'l', 'm', 'n', 'o', 'p', 'q', 'r', 's', 't', 'u', 'v', 'w', 'x','y','z']
    
    for i in range(len(s)):
        for j in range(len(alphabet)):
            if alphabet[j]==s[i]:
                if j+shift>25:
                    s[i]=alphabet[j+shift-26] 
                else:
                    s[i]=alphabet[j+shift]
                    break
    
    new = ""
    for x in s:
        new += x 
    return new


# In[72]:


def nv_rotn_decrypt(secret, shift):
    s=list(secret)# message should be a string
    alphabet=['a','b','c','d','e','f','g','h', 'i','j','k', 'l', 'm', 'n', 'o', 'p', 'q', 'r', 's', 't', 'u', 'v', 'w', 'x','y','z']
    for i in range(len(s)):
        for j in range(len(alphabet)):
            if s[i]==alphabet[j]:
                if j-shift>=0:
                    s[i]=alphabet[j-shift] 
                else:
                    s[i]=alphabet[j-shift+26]
                    break
    
    new = ""
    for x in s:
        new += x 
    return new

